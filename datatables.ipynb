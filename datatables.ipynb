{
    "cells": [
        {
            "cell_type": "markdown",
            "metadata": {
                "azdata_cell_guid": "0a635264-2da1-4d9b-86a1-efa4716b5cf9"
            },
            "source": [
                "# Get session\n",
                "A function that returns a single session. This can be iteratively manipulated to pull data from the FastF1/Ergast API"
            ]
        },
        {
            "cell_type": "code",
            "execution_count": null,
            "metadata": {
                "azdata_cell_guid": "42f4549f-b29d-4f6b-8081-a5acb2918663",
                "language": "python"
            },
            "outputs": [],
            "source": [
                "import fastf1\n",
                "import pandas as pd\n",
                "import fastf1.plotting\n",
                "import macrofunctions as maf\n",
                "import microfunctions as mif\n",
                "\n",
                "fastf1.plotting.setup_mpl()\n",
                "\n",
                "year, circuit, sessiontype = 2023, 'Monza', 'R'\n",
                "session = fastf1.get_session(year, circuit, sessiontype)\n",
                "try:\n",
                "    session.load(laps=True, weather=True, telemetry=True, messages=True)\n",
                "except:\n",
                "    print(f'\\x1b[31mFailed to load: {year}, {circuit}, \"{sessiontype}\"\\x1b[0m')"
            ]
        },
        {
            "cell_type": "markdown",
            "metadata": {
                "azdata_cell_guid": "d4b1a7a6-f9a7-4038-ac3c-5a9659f37d3e"
            },
            "source": [
                "# Schedule"
            ]
        },
        {
            "cell_type": "markdown",
            "metadata": {
                "azdata_cell_guid": "4e954cc8-5b49-48c0-a2cd-5c1b2f9dfdff"
            },
            "source": [
                "## All Season Grand Prixes"
            ]
        },
        {
            "cell_type": "code",
            "execution_count": null,
            "metadata": {
                "azdata_cell_guid": "b7d415c4-9772-4517-8455-1a1c827eb15b",
                "language": "python"
            },
            "outputs": [],
            "source": [
                "mif.loadschedule(year)"
            ]
        },
        {
            "cell_type": "markdown",
            "metadata": {
                "azdata_cell_guid": "199a9faa-71c6-4b45-9508-072194ad5d7e"
            },
            "source": [
                "## Remaining Grand Prixes"
            ]
        },
        {
            "cell_type": "code",
            "execution_count": null,
            "metadata": {
                "azdata_cell_guid": "4ce8dae6-b240-475f-9760-8aab46b2f2c8",
                "language": "python"
            },
            "outputs": [],
            "source": [
                "mif.loadremaining()"
            ]
        },
        {
            "cell_type": "markdown",
            "metadata": {
                "azdata_cell_guid": "d4552d8d-2bcb-4653-b42f-aaf088d2a6aa"
            },
            "source": [
                "# Circuit Information"
            ]
        },
        {
            "cell_type": "markdown",
            "metadata": {
                "azdata_cell_guid": "939dc4ff-e772-4995-89d6-9c675310bfe4"
            },
            "source": [
                "## Corner Information"
            ]
        },
        {
            "cell_type": "code",
            "execution_count": null,
            "metadata": {
                "azdata_cell_guid": "8b3077d7-8e74-4190-bec7-6a34785f75f4",
                "language": "python"
            },
            "outputs": [],
            "source": [
                "session.get_circuit_info().corners"
            ]
        },
        {
            "cell_type": "markdown",
            "metadata": {
                "azdata_cell_guid": "506c0c74-5108-43bf-b7ad-5080e97f2be7"
            },
            "source": [
                "## Marshal Lights"
            ]
        },
        {
            "cell_type": "code",
            "execution_count": null,
            "metadata": {
                "azdata_cell_guid": "6da7fafe-c1e0-47b4-8813-f0843a83ab12",
                "language": "python"
            },
            "outputs": [],
            "source": [
                "session.get_circuit_info().marshal_lights"
            ]
        },
        {
            "cell_type": "markdown",
            "metadata": {
                "azdata_cell_guid": "d08d3fab-a5cd-4019-9d82-74b821eaee2a"
            },
            "source": [
                "## Marshal Sectors"
            ]
        },
        {
            "cell_type": "code",
            "execution_count": null,
            "metadata": {
                "azdata_cell_guid": "4c5d22f5-4311-4fd1-8d33-bcddb56ebfc9",
                "language": "python"
            },
            "outputs": [],
            "source": [
                "session.get_circuit_info().marshal_sectors"
            ]
        },
        {
            "cell_type": "markdown",
            "metadata": {
                "azdata_cell_guid": "cc6efc84-d3af-4e9c-bff5-d12f82fc39ed"
            },
            "source": [
                "# Track status"
            ]
        },
        {
            "cell_type": "code",
            "execution_count": null,
            "metadata": {
                "azdata_cell_guid": "7a8b9a74-8932-4d28-9ed0-c06f8759aa31",
                "language": "python"
            },
            "outputs": [],
            "source": [
                "session.track_status"
            ]
        },
        {
            "cell_type": "code",
            "execution_count": null,
            "metadata": {
                "azdata_cell_guid": "936e8d88-304a-40ba-8260-2ac5930e67d9",
                "language": "python"
            },
            "outputs": [],
            "source": []
        },
        {
            "cell_type": "markdown",
            "metadata": {
                "azdata_cell_guid": "67ee738f-8e41-4b3b-b5f0-c87bcb52d08c"
            },
            "source": [
                "# Session Results"
            ]
        },
        {
            "cell_type": "code",
            "execution_count": null,
            "metadata": {
                "azdata_cell_guid": "639c5bd8-6025-4c53-9551-b240d3d8def8",
                "language": "python"
            },
            "outputs": [],
            "source": [
                "session.results"
            ]
        },
        {
            "cell_type": "markdown",
            "metadata": {
                "azdata_cell_guid": "3c0c710a-8721-4441-8354-7ba206f91bd4"
            },
            "source": [
                "# Pos Data"
            ]
        },
        {
            "cell_type": "code",
            "execution_count": null,
            "metadata": {
                "azdata_cell_guid": "f4aaedc5-7fb6-4ffc-84c4-6ae9b4d37dc1",
                "language": "python"
            },
            "outputs": [],
            "source": [
                "session.pos_data"
            ]
        },
        {
            "cell_type": "markdown",
            "metadata": {
                "azdata_cell_guid": "6763746f-8a68-4965-9654-75fe08d1e8d5"
            },
            "source": [
                "# Car Data"
            ]
        },
        {
            "cell_type": "markdown",
            "metadata": {
                "azdata_cell_guid": "7c8070b5-ead9-4bf5-96d3-41fc7300b76f"
            },
            "source": [
                "## Car Data Unknown"
            ]
        },
        {
            "cell_type": "code",
            "execution_count": null,
            "metadata": {
                "azdata_cell_guid": "eed2475f-fd78-44a1-8ca3-8c04a7387959",
                "language": "python"
            },
            "outputs": [],
            "source": [
                "pd.concat(session.car_data)"
            ]
        },
        {
            "cell_type": "markdown",
            "metadata": {},
            "source": [
                "## Car Data Single Grand Prix OLD"
            ]
        },
        {
            "cell_type": "code",
            "execution_count": null,
            "metadata": {},
            "outputs": [],
            "source": [
                "maf.allcardataold(circuit, year, session, sessiontype)"
            ]
        },
        {
            "cell_type": "markdown",
            "metadata": {
                "azdata_cell_guid": "46c25471-de16-4613-a38e-15d730952ee4"
            },
            "source": [
                "## Car Data Single Grand Prix NEW"
            ]
        },
        {
            "cell_type": "code",
            "execution_count": null,
            "metadata": {
                "azdata_cell_guid": "55a1044b-b4e2-407d-9f63-f8a85291fa59",
                "language": "python"
            },
            "outputs": [],
            "source": [
                "maf.allcardata(circuit, year, session, sessiontype)"
            ]
        },
        {
            "cell_type": "markdown",
            "metadata": {
                "azdata_cell_guid": "69a0f3ea-99c0-493a-9f7e-afbcefb54b7c"
            },
            "source": [
                "# Lap Data"
            ]
        },
        {
            "cell_type": "markdown",
            "metadata": {
                "azdata_cell_guid": "cef89f8e-1d07-4291-8b45-d70772827dca"
            },
            "source": [
                "## Lap data single grand prix"
            ]
        },
        {
            "cell_type": "code",
            "execution_count": null,
            "metadata": {
                "azdata_cell_guid": "f157b81e-af82-43ad-b487-22f6eefd85c5",
                "language": "python"
            },
            "outputs": [],
            "source": [
                "maf.alllapdata(circuit, year, session, sessiontype)"
            ]
        },
        {
            "cell_type": "markdown",
            "metadata": {
                "azdata_cell_guid": "f5dcd257-38b1-49e5-8e69-7a0d26d39e0a"
            },
            "source": [
                "# Weather Data"
            ]
        },
        {
            "cell_type": "markdown",
            "metadata": {
                "azdata_cell_guid": "5e215bba-f33c-4e45-9244-bc418bee4fdb"
            },
            "source": [
                "## Weather Data Unknown"
            ]
        },
        {
            "cell_type": "code",
            "execution_count": null,
            "metadata": {
                "azdata_cell_guid": "4b48d4bf-c057-4108-9d54-2340cafd4053",
                "language": "python"
            },
            "outputs": [],
            "source": [
                "session.weather_data"
            ]
        },
        {
            "cell_type": "markdown",
            "metadata": {
                "azdata_cell_guid": "3863c467-b13f-4a56-be20-8065a2f9b256"
            },
            "source": [
                "## Weather Data Single Grand Prix"
            ]
        },
        {
            "cell_type": "code",
            "execution_count": null,
            "metadata": {
                "azdata_cell_guid": "07dac2b3-2a49-44be-8559-a50630afc8ac",
                "language": "python"
            },
            "outputs": [],
            "source": [
                "maf.allweatherdata(circuit, year, session, sessiontype)"
            ]
        }
    ],
    "metadata": {
        "kernelspec": {
            "display_name": "Python 3.11.5 ('.venv': venv)",
            "language": "python",
            "name": "python3"
        },
        "language_info": {
            "codemirror_mode": {
                "name": "ipython",
                "version": 3
            },
            "file_extension": ".py",
            "mimetype": "text/x-python",
            "name": "python",
            "nbconvert_exporter": "python",
            "pygments_lexer": "ipython3",
            "version": "3.11.5"
        },
        "orig_nbformat": 4,
        "vscode": {
            "interpreter": {
                "hash": "9e99f679fc70986c259dd52eae97fc8007e70a235678bd60876c90f0ef242363"
            }
        }
    },
    "nbformat": 4,
    "nbformat_minor": 2
}
